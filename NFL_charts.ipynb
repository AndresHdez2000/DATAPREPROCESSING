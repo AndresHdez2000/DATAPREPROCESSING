{
 "cells": [
  {
   "cell_type": "code",
   "execution_count": 1,
   "metadata": {},
   "outputs": [],
   "source": [
    "import pandas as pd\n",
    "import numpy as np\n",
    "from math import pi\n",
    "\n",
    "import matplotlib.pyplot as plt\n",
    "import seaborn as sns\n",
    "import bokeh"
   ]
  },
  {
   "cell_type": "code",
   "execution_count": 2,
   "metadata": {},
   "outputs": [
    {
     "name": "stderr",
     "output_type": "stream",
     "text": [
      "C:\\Users\\Andres\\Anaconda3\\lib\\site-packages\\IPython\\core\\interactiveshell.py:3020: DtypeWarning: Columns (47) have mixed types. Specify dtype option on import or set low_memory=False.\n",
      "  interactivity=interactivity, compiler=compiler, result=result)\n"
     ]
    }
   ],
   "source": [
    "file = pd.read_csv('NFL_stats.csv')"
   ]
  },
  {
   "cell_type": "code",
   "execution_count": 3,
   "metadata": {},
   "outputs": [
    {
     "name": "stdout",
     "output_type": "stream",
     "text": [
      "<class 'pandas.core.frame.DataFrame'>\n",
      "RangeIndex: 509762 entries, 0 to 509761\n",
      "Data columns (total 49 columns):\n",
      "GameId                    509762 non-null int64\n",
      "PlayId                    509762 non-null int64\n",
      "Team                      509762 non-null object\n",
      "X                         509762 non-null float64\n",
      "Y                         509762 non-null float64\n",
      "S                         509762 non-null float64\n",
      "A                         509762 non-null float64\n",
      "Dis                       509762 non-null float64\n",
      "Orientation               509744 non-null float64\n",
      "Dir                       509748 non-null float64\n",
      "NflId                     509762 non-null int64\n",
      "DisplayName               509762 non-null object\n",
      "JerseyNumber              509762 non-null int64\n",
      "Season                    509762 non-null int64\n",
      "YardLine                  509762 non-null int64\n",
      "Quarter                   509762 non-null int64\n",
      "GameClock                 509762 non-null object\n",
      "PossessionTeam            509762 non-null object\n",
      "Down                      509762 non-null int64\n",
      "Distance                  509762 non-null int64\n",
      "FieldPosition             503338 non-null object\n",
      "HomeScoreBeforePlay       509762 non-null int64\n",
      "VisitorScoreBeforePlay    509762 non-null int64\n",
      "NflIdRusher               509762 non-null int64\n",
      "OffenseFormation          509652 non-null object\n",
      "OffensePersonnel          509762 non-null object\n",
      "DefendersInTheBox         509696 non-null float64\n",
      "DefensePersonnel          509762 non-null object\n",
      "PlayDirection             509762 non-null object\n",
      "TimeHandoff               509762 non-null object\n",
      "TimeSnap                  509762 non-null object\n",
      "Yards                     509762 non-null int64\n",
      "PlayerHeight              509762 non-null object\n",
      "PlayerWeight              509762 non-null int64\n",
      "PlayerBirthDate           509762 non-null object\n",
      "PlayerCollegeName         509762 non-null object\n",
      "Position                  509762 non-null object\n",
      "HomeTeamAbbr              509762 non-null object\n",
      "VisitorTeamAbbr           509762 non-null object\n",
      "Week                      509762 non-null int64\n",
      "Stadium                   509762 non-null object\n",
      "Location                  509762 non-null object\n",
      "StadiumType               476828 non-null object\n",
      "Turf                      509762 non-null object\n",
      "GameWeather               466114 non-null object\n",
      "Temperature               461230 non-null float64\n",
      "Humidity                  503602 non-null float64\n",
      "WindSpeed                 442332 non-null object\n",
      "WindDirection             429528 non-null object\n",
      "dtypes: float64(10), int64(15), object(24)\n",
      "memory usage: 190.6+ MB\n"
     ]
    },
    {
     "data": {
      "text/plain": [
       "(509762, 49)"
      ]
     },
     "metadata": {},
     "output_type": "display_data"
    },
    {
     "data": {
      "text/plain": [
       "Index(['GameId', 'PlayId', 'Team', 'X', 'Y', 'S', 'A', 'Dis', 'Orientation',\n",
       "       'Dir', 'NflId', 'DisplayName', 'JerseyNumber', 'Season', 'YardLine',\n",
       "       'Quarter', 'GameClock', 'PossessionTeam', 'Down', 'Distance',\n",
       "       'FieldPosition', 'HomeScoreBeforePlay', 'VisitorScoreBeforePlay',\n",
       "       'NflIdRusher', 'OffenseFormation', 'OffensePersonnel',\n",
       "       'DefendersInTheBox', 'DefensePersonnel', 'PlayDirection', 'TimeHandoff',\n",
       "       'TimeSnap', 'Yards', 'PlayerHeight', 'PlayerWeight', 'PlayerBirthDate',\n",
       "       'PlayerCollegeName', 'Position', 'HomeTeamAbbr', 'VisitorTeamAbbr',\n",
       "       'Week', 'Stadium', 'Location', 'StadiumType', 'Turf', 'GameWeather',\n",
       "       'Temperature', 'Humidity', 'WindSpeed', 'WindDirection'],\n",
       "      dtype='object')"
      ]
     },
     "metadata": {},
     "output_type": "display_data"
    },
    {
     "data": {
      "text/plain": [
       "None"
      ]
     },
     "metadata": {},
     "output_type": "display_data"
    }
   ],
   "source": [
    "# getting copy \n",
    "bar_teams = file.copy()\n",
    "bar_stats = file.copy()\n",
    "\n",
    "display(file.shape,file.columns, file.info())"
   ]
  },
  {
   "cell_type": "code",
   "execution_count": 4,
   "metadata": {},
   "outputs": [
    {
     "data": {
      "text/html": [
       "<div>\n",
       "<style scoped>\n",
       "    .dataframe tbody tr th:only-of-type {\n",
       "        vertical-align: middle;\n",
       "    }\n",
       "\n",
       "    .dataframe tbody tr th {\n",
       "        vertical-align: top;\n",
       "    }\n",
       "\n",
       "    .dataframe thead th {\n",
       "        text-align: right;\n",
       "    }\n",
       "</style>\n",
       "<table border=\"1\" class=\"dataframe\">\n",
       "  <thead>\n",
       "    <tr style=\"text-align: right;\">\n",
       "      <th></th>\n",
       "      <th>GameId</th>\n",
       "      <th>PlayId</th>\n",
       "      <th>Team</th>\n",
       "      <th>X</th>\n",
       "      <th>Y</th>\n",
       "      <th>S</th>\n",
       "      <th>A</th>\n",
       "      <th>Dis</th>\n",
       "      <th>Orientation</th>\n",
       "      <th>Dir</th>\n",
       "      <th>...</th>\n",
       "      <th>Week</th>\n",
       "      <th>Stadium</th>\n",
       "      <th>Location</th>\n",
       "      <th>StadiumType</th>\n",
       "      <th>Turf</th>\n",
       "      <th>GameWeather</th>\n",
       "      <th>Temperature</th>\n",
       "      <th>Humidity</th>\n",
       "      <th>WindSpeed</th>\n",
       "      <th>WindDirection</th>\n",
       "    </tr>\n",
       "  </thead>\n",
       "  <tbody>\n",
       "    <tr>\n",
       "      <th>0</th>\n",
       "      <td>2017090700</td>\n",
       "      <td>20170907000118</td>\n",
       "      <td>away</td>\n",
       "      <td>73.91</td>\n",
       "      <td>34.84</td>\n",
       "      <td>1.69</td>\n",
       "      <td>1.13</td>\n",
       "      <td>0.40</td>\n",
       "      <td>81.99</td>\n",
       "      <td>177.18</td>\n",
       "      <td>...</td>\n",
       "      <td>1</td>\n",
       "      <td>Gillette Stadium</td>\n",
       "      <td>Foxborough, MA</td>\n",
       "      <td>Outdoor</td>\n",
       "      <td>Field Turf</td>\n",
       "      <td>Clear and warm</td>\n",
       "      <td>63.0</td>\n",
       "      <td>77.0</td>\n",
       "      <td>8</td>\n",
       "      <td>SW</td>\n",
       "    </tr>\n",
       "    <tr>\n",
       "      <th>1</th>\n",
       "      <td>2017090700</td>\n",
       "      <td>20170907000118</td>\n",
       "      <td>away</td>\n",
       "      <td>74.67</td>\n",
       "      <td>32.64</td>\n",
       "      <td>0.42</td>\n",
       "      <td>1.35</td>\n",
       "      <td>0.01</td>\n",
       "      <td>27.61</td>\n",
       "      <td>198.70</td>\n",
       "      <td>...</td>\n",
       "      <td>1</td>\n",
       "      <td>Gillette Stadium</td>\n",
       "      <td>Foxborough, MA</td>\n",
       "      <td>Outdoor</td>\n",
       "      <td>Field Turf</td>\n",
       "      <td>Clear and warm</td>\n",
       "      <td>63.0</td>\n",
       "      <td>77.0</td>\n",
       "      <td>8</td>\n",
       "      <td>SW</td>\n",
       "    </tr>\n",
       "    <tr>\n",
       "      <th>2</th>\n",
       "      <td>2017090700</td>\n",
       "      <td>20170907000118</td>\n",
       "      <td>away</td>\n",
       "      <td>74.00</td>\n",
       "      <td>33.20</td>\n",
       "      <td>1.22</td>\n",
       "      <td>0.59</td>\n",
       "      <td>0.31</td>\n",
       "      <td>3.01</td>\n",
       "      <td>202.73</td>\n",
       "      <td>...</td>\n",
       "      <td>1</td>\n",
       "      <td>Gillette Stadium</td>\n",
       "      <td>Foxborough, MA</td>\n",
       "      <td>Outdoor</td>\n",
       "      <td>Field Turf</td>\n",
       "      <td>Clear and warm</td>\n",
       "      <td>63.0</td>\n",
       "      <td>77.0</td>\n",
       "      <td>8</td>\n",
       "      <td>SW</td>\n",
       "    </tr>\n",
       "    <tr>\n",
       "      <th>3</th>\n",
       "      <td>2017090700</td>\n",
       "      <td>20170907000118</td>\n",
       "      <td>away</td>\n",
       "      <td>71.46</td>\n",
       "      <td>27.70</td>\n",
       "      <td>0.42</td>\n",
       "      <td>0.54</td>\n",
       "      <td>0.02</td>\n",
       "      <td>359.77</td>\n",
       "      <td>105.64</td>\n",
       "      <td>...</td>\n",
       "      <td>1</td>\n",
       "      <td>Gillette Stadium</td>\n",
       "      <td>Foxborough, MA</td>\n",
       "      <td>Outdoor</td>\n",
       "      <td>Field Turf</td>\n",
       "      <td>Clear and warm</td>\n",
       "      <td>63.0</td>\n",
       "      <td>77.0</td>\n",
       "      <td>8</td>\n",
       "      <td>SW</td>\n",
       "    </tr>\n",
       "    <tr>\n",
       "      <th>4</th>\n",
       "      <td>2017090700</td>\n",
       "      <td>20170907000118</td>\n",
       "      <td>away</td>\n",
       "      <td>69.32</td>\n",
       "      <td>35.42</td>\n",
       "      <td>1.82</td>\n",
       "      <td>2.43</td>\n",
       "      <td>0.16</td>\n",
       "      <td>12.63</td>\n",
       "      <td>164.31</td>\n",
       "      <td>...</td>\n",
       "      <td>1</td>\n",
       "      <td>Gillette Stadium</td>\n",
       "      <td>Foxborough, MA</td>\n",
       "      <td>Outdoor</td>\n",
       "      <td>Field Turf</td>\n",
       "      <td>Clear and warm</td>\n",
       "      <td>63.0</td>\n",
       "      <td>77.0</td>\n",
       "      <td>8</td>\n",
       "      <td>SW</td>\n",
       "    </tr>\n",
       "  </tbody>\n",
       "</table>\n",
       "<p>5 rows × 49 columns</p>\n",
       "</div>"
      ],
      "text/plain": [
       "       GameId          PlayId  Team      X      Y     S     A   Dis  \\\n",
       "0  2017090700  20170907000118  away  73.91  34.84  1.69  1.13  0.40   \n",
       "1  2017090700  20170907000118  away  74.67  32.64  0.42  1.35  0.01   \n",
       "2  2017090700  20170907000118  away  74.00  33.20  1.22  0.59  0.31   \n",
       "3  2017090700  20170907000118  away  71.46  27.70  0.42  0.54  0.02   \n",
       "4  2017090700  20170907000118  away  69.32  35.42  1.82  2.43  0.16   \n",
       "\n",
       "   Orientation     Dir      ...        Week           Stadium        Location  \\\n",
       "0        81.99  177.18      ...           1  Gillette Stadium  Foxborough, MA   \n",
       "1        27.61  198.70      ...           1  Gillette Stadium  Foxborough, MA   \n",
       "2         3.01  202.73      ...           1  Gillette Stadium  Foxborough, MA   \n",
       "3       359.77  105.64      ...           1  Gillette Stadium  Foxborough, MA   \n",
       "4        12.63  164.31      ...           1  Gillette Stadium  Foxborough, MA   \n",
       "\n",
       "   StadiumType        Turf     GameWeather Temperature Humidity  WindSpeed  \\\n",
       "0      Outdoor  Field Turf  Clear and warm        63.0     77.0          8   \n",
       "1      Outdoor  Field Turf  Clear and warm        63.0     77.0          8   \n",
       "2      Outdoor  Field Turf  Clear and warm        63.0     77.0          8   \n",
       "3      Outdoor  Field Turf  Clear and warm        63.0     77.0          8   \n",
       "4      Outdoor  Field Turf  Clear and warm        63.0     77.0          8   \n",
       "\n",
       "   WindDirection  \n",
       "0             SW  \n",
       "1             SW  \n",
       "2             SW  \n",
       "3             SW  \n",
       "4             SW  \n",
       "\n",
       "[5 rows x 49 columns]"
      ]
     },
     "execution_count": 4,
     "metadata": {},
     "output_type": "execute_result"
    }
   ],
   "source": [
    "file.head()"
   ]
  },
  {
   "cell_type": "code",
   "execution_count": 5,
   "metadata": {},
   "outputs": [],
   "source": [
    "# DROP \n",
    "drop = ['GameId', 'PlayId', 'X', 'Y', 'S', 'A', 'Dis', 'Orientation',\n",
    "        'Dir', 'NflId', 'DisplayName', 'JerseyNumber', 'Down', 'Distance',\n",
    "       'FieldPosition', 'HomeScoreBeforePlay', 'VisitorScoreBeforePlay',\n",
    "       'NflIdRusher', 'OffenseFormation', 'OffensePersonnel',\n",
    "       'DefendersInTheBox', 'DefensePersonnel', 'PlayDirection', 'TimeHandoff', 'StadiumType', 'Turf', 'GameWeather',\n",
    "       'Temperature', 'Humidity', 'WindSpeed', 'WindDirection', 'HomeTeamAbbr', 'VisitorTeamAbbr']\n",
    "bar_teams = bar_teams.drop(drop, axis=1)\n"
   ]
  },
  {
   "cell_type": "code",
   "execution_count": 7,
   "metadata": {},
   "outputs": [],
   "source": [
    "Stadia = bar_teams.Stadium.unique().tolist()\n",
    "Teams = bar_teams.PossessionTeam.unique().tolist()"
   ]
  },
  {
   "cell_type": "code",
   "execution_count": 8,
   "metadata": {},
   "outputs": [],
   "source": [
    "bar_teams.Team = bar_teams.Team.astype(str).str.replace('away', '-1')\n",
    "bar_teams.Team = bar_teams.Team.astype(str).str.replace('home', '1')"
   ]
  },
  {
   "cell_type": "code",
   "execution_count": 113,
   "metadata": {},
   "outputs": [],
   "source": [
    "bar_teams['Count'] = 1\n",
    "teams_df = bar_teams[['Count', 'PossessionTeam']]\n",
    "team_grouped = teams_df.groupby(by='PossessionTeam').count()"
   ]
  },
  {
   "cell_type": "code",
   "execution_count": 97,
   "metadata": {},
   "outputs": [],
   "source": [
    "team_grouped = team_grouped.sort_values('Count')\n",
    "champion = team_grouped.loc[team_grouped.index == 'NE']\n",
    "subchamp = team_grouped.loc[team_grouped.index == 'PHI']"
   ]
  },
  {
   "cell_type": "code",
   "execution_count": 108,
   "metadata": {
    "scrolled": false
   },
   "outputs": [
    {
     "data": {
      "image/png": "[encoded data removed]",
      "text/plain": [
       "<Figure size 2400x1200 with 1 Axes>"
      ]
     },
     "metadata": {
      "needs_background": "light"
     },
     "output_type": "display_data"
    }
   ],
   "source": [
    "plt.figure(figsize = [16, 8], dpi = 150)\n",
    "ax = plt.axes()\n",
    "\n",
    "plt.barh(team_grouped.index, team_grouped.Count, color = 'lightsteelblue')\n",
    "plt.barh(champion.index, champion.Count, color = 'darkred')\n",
    "plt.barh(subchamp.index, subchamp.Count, color = 'gold')\n",
    "\n",
    "plt.title('Number of Movements for each Team', fontsize = 20)\n",
    "plt.xlabel('No. Movements', fontsize=15)\n",
    "plt.ylabel('Team', fontsize=15)\n",
    "\n",
    "ax.spines['right'].set_visible(False)\n",
    "ax.spines['top'].set_visible(False)\n",
    "ax.spines['bottom'].set_visible(False)\n",
    "ax.spines['left'].set_visible(False)\n",
    "plt.grid(axis='x')\n",
    "\n",
    "\n",
    "plt.show()"
   ]
  },
  {
   "cell_type": "code",
   "execution_count": 17,
   "metadata": {},
   "outputs": [],
   "source": [
    "def per_match(df, game_id):\n",
    "    df_master = df.copy()\n",
    "    df_master = df_master.loc[df_master.GameId.astype(str) == game_id]\n",
    "    \n",
    "    df_1 = df_master.loc[df_master.Quarter == 1]\n",
    "    df_2 = df_master.loc[df_master.Quarter == 2]\n",
    "    df_3 = df_master.loc[df_master.Quarter == 3]\n",
    "    df_4 = df_master.loc[df_master.Quarter == 4]\n",
    "    df_all = [df_1,df_2,df_3,df_4]\n",
    "    \n",
    "    df_1 = df_1.groupby(by = 'PossessionTeam').count()\n",
    "    df_2 = df_2.groupby(by = 'PossessionTeam').count()\n",
    "    df_3 = df_3.groupby(by = 'PossessionTeam').count()\n",
    "    df_4 = df_4.groupby(by = 'PossessionTeam').count()\n",
    "    \n",
    "    df_all = [df_1,df_2,df_3,df_4]\n",
    "\n",
    "    \n",
    "    df_gouped = df_master.groupby(by='Quarter').count()\n",
    "    \n",
    "    ret = [df_all, df_gouped]\n",
    "    return ret"
   ]
  },
  {
   "cell_type": "code",
   "execution_count": 18,
   "metadata": {},
   "outputs": [],
   "source": [
    "bar_stats['Count'] = 1\n",
    "match = '2017090700'"
   ]
  },
  {
   "cell_type": "code",
   "execution_count": 19,
   "metadata": {},
   "outputs": [],
   "source": [
    "test = per_match(bar_stats, match)"
   ]
  },
  {
   "cell_type": "code",
   "execution_count": 35,
   "metadata": {},
   "outputs": [
    {
     "data": {
      "text/plain": [
       "Index(['1', '2', '3', '4'], dtype='object', name='Quarter')"
      ]
     },
     "execution_count": 35,
     "metadata": {},
     "output_type": "execute_result"
    }
   ],
   "source": [
    "test[1].index.astype(str)"
   ]
  },
  {
   "cell_type": "code",
   "execution_count": 59,
   "metadata": {},
   "outputs": [
    {
     "data": {
      "image/png": "[encoded data removed]",
      "text/plain": [
       "<Figure size 432x288 with 1 Axes>"
      ]
     },
     "metadata": {
      "needs_background": "light"
     },
     "output_type": "display_data"
    }
   ],
   "source": [
    "ax = plt.axes()\n",
    "\n",
    "tired_4 = test[1].index.astype(str).tolist()\n",
    "tired_count = test[1].Count.tolist()\n",
    "\n",
    "plt.bar(test[1].index.astype(str), test[1].Count, color='grey')\n",
    "plt.bar(tired_4[3], tired_count[3], color='orangered', label='Most Tired quarter')\n",
    "\n",
    "plt.title('Total of Movements in each quarter', fontsize = 17)\n",
    "plt.xlabel('No. Quarter', fontsize = 13)\n",
    "plt.ylabel('Movements', fontsize=13)\n",
    "\n",
    "ax.spines['right'].set_visible(False)\n",
    "ax.spines['top'].set_visible(False)\n",
    "\n",
    "plt.legend()\n",
    "plt.show()"
   ]
  },
  {
   "cell_type": "code",
   "execution_count": 18,
   "metadata": {},
   "outputs": [
    {
     "data": {
      "text/html": [
       "<div>\n",
       "<style scoped>\n",
       "    .dataframe tbody tr th:only-of-type {\n",
       "        vertical-align: middle;\n",
       "    }\n",
       "\n",
       "    .dataframe tbody tr th {\n",
       "        vertical-align: top;\n",
       "    }\n",
       "\n",
       "    .dataframe thead th {\n",
       "        text-align: right;\n",
       "    }\n",
       "</style>\n",
       "<table border=\"1\" class=\"dataframe\">\n",
       "  <thead>\n",
       "    <tr style=\"text-align: right;\">\n",
       "      <th></th>\n",
       "      <th>GameId</th>\n",
       "      <th>PlayId</th>\n",
       "      <th>Team</th>\n",
       "      <th>X</th>\n",
       "      <th>Y</th>\n",
       "      <th>S</th>\n",
       "      <th>A</th>\n",
       "      <th>Dis</th>\n",
       "      <th>Orientation</th>\n",
       "      <th>Dir</th>\n",
       "      <th>...</th>\n",
       "      <th>Stadium</th>\n",
       "      <th>Location</th>\n",
       "      <th>StadiumType</th>\n",
       "      <th>Turf</th>\n",
       "      <th>GameWeather</th>\n",
       "      <th>Temperature</th>\n",
       "      <th>Humidity</th>\n",
       "      <th>WindSpeed</th>\n",
       "      <th>WindDirection</th>\n",
       "      <th>Count</th>\n",
       "    </tr>\n",
       "    <tr>\n",
       "      <th>PossessionTeam</th>\n",
       "      <th></th>\n",
       "      <th></th>\n",
       "      <th></th>\n",
       "      <th></th>\n",
       "      <th></th>\n",
       "      <th></th>\n",
       "      <th></th>\n",
       "      <th></th>\n",
       "      <th></th>\n",
       "      <th></th>\n",
       "      <th></th>\n",
       "      <th></th>\n",
       "      <th></th>\n",
       "      <th></th>\n",
       "      <th></th>\n",
       "      <th></th>\n",
       "      <th></th>\n",
       "      <th></th>\n",
       "      <th></th>\n",
       "      <th></th>\n",
       "      <th></th>\n",
       "    </tr>\n",
       "  </thead>\n",
       "  <tbody>\n",
       "    <tr>\n",
       "      <th>KC</th>\n",
       "      <td>88</td>\n",
       "      <td>88</td>\n",
       "      <td>88</td>\n",
       "      <td>88</td>\n",
       "      <td>88</td>\n",
       "      <td>88</td>\n",
       "      <td>88</td>\n",
       "      <td>88</td>\n",
       "      <td>88</td>\n",
       "      <td>88</td>\n",
       "      <td>...</td>\n",
       "      <td>88</td>\n",
       "      <td>88</td>\n",
       "      <td>88</td>\n",
       "      <td>88</td>\n",
       "      <td>88</td>\n",
       "      <td>88</td>\n",
       "      <td>88</td>\n",
       "      <td>88</td>\n",
       "      <td>88</td>\n",
       "      <td>88</td>\n",
       "    </tr>\n",
       "    <tr>\n",
       "      <th>NE</th>\n",
       "      <td>242</td>\n",
       "      <td>242</td>\n",
       "      <td>242</td>\n",
       "      <td>242</td>\n",
       "      <td>242</td>\n",
       "      <td>242</td>\n",
       "      <td>242</td>\n",
       "      <td>242</td>\n",
       "      <td>242</td>\n",
       "      <td>242</td>\n",
       "      <td>...</td>\n",
       "      <td>242</td>\n",
       "      <td>242</td>\n",
       "      <td>242</td>\n",
       "      <td>242</td>\n",
       "      <td>242</td>\n",
       "      <td>242</td>\n",
       "      <td>242</td>\n",
       "      <td>242</td>\n",
       "      <td>242</td>\n",
       "      <td>242</td>\n",
       "    </tr>\n",
       "  </tbody>\n",
       "</table>\n",
       "<p>2 rows × 49 columns</p>\n",
       "</div>"
      ],
      "text/plain": [
       "                GameId  PlayId  Team    X    Y    S    A  Dis  Orientation  \\\n",
       "PossessionTeam                                                               \n",
       "KC                  88      88    88   88   88   88   88   88           88   \n",
       "NE                 242     242   242  242  242  242  242  242          242   \n",
       "\n",
       "                Dir  ...    Stadium  Location  StadiumType  Turf  GameWeather  \\\n",
       "PossessionTeam       ...                                                        \n",
       "KC               88  ...         88        88           88    88           88   \n",
       "NE              242  ...        242       242          242   242          242   \n",
       "\n",
       "                Temperature  Humidity  WindSpeed  WindDirection  Count  \n",
       "PossessionTeam                                                          \n",
       "KC                       88        88         88             88     88  \n",
       "NE                      242       242        242            242    242  \n",
       "\n",
       "[2 rows x 49 columns]"
      ]
     },
     "execution_count": 18,
     "metadata": {},
     "output_type": "execute_result"
    }
   ],
   "source": [
    "test[0][0]"
   ]
  },
  {
   "cell_type": "code",
   "execution_count": 107,
   "metadata": {},
   "outputs": [
    {
     "data": {
      "image/png": "[encoded data removed]",
      "text/plain": [
       "<Figure size 432x288 with 1 Axes>"
      ]
     },
     "metadata": {
      "needs_background": "light"
     },
     "output_type": "display_data"
    }
   ],
   "source": [
    "ax = plt.axes()\n",
    "\n",
    "plt.bar(test[0][0].index, test[0][0].Count, color='lightcoral', label = 'First Quarter')\n",
    "plt.bar(test[0][1].index, test[0][1].Count, bottom = test[0][0].Count, color='indianred')\n",
    "plt.bar(test[0][2].index, test[0][2].Count, bottom = test[0][0].Count+ test[0][1].Count, \n",
    "        color = 'brown')\n",
    "plt.bar(test[0][3].index, test[0][3].Count, bottom = test[0][0].Count+ test[0][1].Count+test[0][2].Count, \n",
    "        color = 'darkred', label = 'Last Quarter')\n",
    "\n",
    "plt.title('Number of movements in a Match', fontsize = 17)\n",
    "plt.ylabel('Movements', fontsize = 13)\n",
    "plt.xlabel('Match', fontsize = 13)\n",
    "\n",
    "ax.spines['right'].set_visible(False)\n",
    "ax.spines['top'].set_visible(False)\n",
    "\n",
    "plt.grid(axis = 'y')\n",
    "plt.legend()\n",
    "plt.show()"
   ]
  },
  {
   "cell_type": "code",
   "execution_count": 70,
   "metadata": {},
   "outputs": [],
   "source": [
    "temperature = file.copy()\n",
    "band_tag = file.GameWeather.unique()\n",
    "band_x = file.copy()"
   ]
  },
  {
   "cell_type": "code",
   "execution_count": 112,
   "metadata": {},
   "outputs": [],
   "source": [
    "temperature_min = temperature.Temperature.min() \n",
    "temperature_max = temperature.Temperature.max()\n",
    "#display(temperature_min, temperature_max)"
   ]
  },
  {
   "cell_type": "code",
   "execution_count": 72,
   "metadata": {
    "scrolled": true
   },
   "outputs": [],
   "source": [
    "# Defining Parameters\n",
    "intervals = [int(temperature_min), 60, 82,int(temperature_max)]\n",
    "labels = labels = ['Cold', 'Room', 'Hot']\n",
    "\n",
    "# Creating Intervals\n",
    "temperature[\"Temp_std\"] = pd.cut(temperature.Temperature.fillna(temperature.Temperature.mean()), intervals, labels = labels)\n"
   ]
  },
  {
   "cell_type": "code",
   "execution_count": 111,
   "metadata": {},
   "outputs": [],
   "source": [
    "values = temperature.groupby(by='Temp_std').mean()\n",
    "values_2 = temperature.groupby(by='Temp_std').count()\n",
    "\n",
    "#display(values.index.tolist() ,values.Temperature.astype(int).tolist(), values.Humidity.tolist(), values_2, values)"
   ]
  },
  {
   "cell_type": "code",
   "execution_count": 110,
   "metadata": {},
   "outputs": [
    {
     "data": {
      "image/png": "[encoded data removed]",
      "text/plain": [
       "<Figure size 432x288 with 1 Axes>"
      ]
     },
     "metadata": {
      "needs_background": "light"
     },
     "output_type": "display_data"
    }
   ],
   "source": [
    "#### Make fake dataset\n",
    "height = values.Humidity.tolist() \n",
    "bars = ['Cold', 'Room', 'Hot']\n",
    "# Choose the width of each bar and their positions\n",
    "width = values.Temperature.astype(int).tolist()\n",
    "#width = values_2.Temperature.astype(int).tolist()\n",
    "\n",
    "y_pos = [0,60,120]\n",
    " \n",
    "# Make the plot\n",
    "plt.bar(y_pos, width, width=height, color = ['lightblue', 'navajowhite','lightcoral'])\n",
    "plt.xticks(y_pos, bars)\n",
    "\n",
    "\n",
    "plt.title('relation Temperature/Humedity')\n",
    "plt.ylabel('[F]°', fontsize = 13)\n",
    "\n",
    "plt.show()"
   ]
  },
  {
   "cell_type": "code",
   "execution_count": 79,
   "metadata": {},
   "outputs": [
    {
     "data": {
      "text/plain": [
       "Index(['GameId', 'PlayId', 'Team', 'X', 'Y', 'S', 'A', 'Dis', 'Orientation',\n",
       "       'Dir', 'NflId', 'DisplayName', 'JerseyNumber', 'Season', 'YardLine',\n",
       "       'Quarter', 'GameClock', 'PossessionTeam', 'Down', 'Distance',\n",
       "       'FieldPosition', 'HomeScoreBeforePlay', 'VisitorScoreBeforePlay',\n",
       "       'NflIdRusher', 'OffenseFormation', 'OffensePersonnel',\n",
       "       'DefendersInTheBox', 'DefensePersonnel', 'PlayDirection', 'TimeHandoff',\n",
       "       'TimeSnap', 'Yards', 'PlayerHeight', 'PlayerWeight', 'PlayerBirthDate',\n",
       "       'PlayerCollegeName', 'Position', 'HomeTeamAbbr', 'VisitorTeamAbbr',\n",
       "       'Week', 'Stadium', 'Location', 'StadiumType', 'Turf', 'GameWeather',\n",
       "       'Temperature', 'Humidity', 'WindSpeed', 'WindDirection'],\n",
       "      dtype='object')"
      ]
     },
     "execution_count": 79,
     "metadata": {},
     "output_type": "execute_result"
    }
   ],
   "source": [
    "file.columns"
   ]
  },
  {
   "cell_type": "code",
   "execution_count": 80,
   "metadata": {
    "scrolled": false
   },
   "outputs": [],
   "source": [
    "enviroment_stat = file.copy()\n",
    "drop_lab = [ 'X', 'Y', 'S', 'A', 'Dis', 'Orientation',\n",
    "       'Dir','PlayerWeight', 'PlayerBirthDate',\n",
    "       'PlayerCollegeName', 'Position', 'HomeTeamAbbr', 'VisitorTeamAbbr',\n",
    "       'Week', 'Stadium', 'Location', 'StadiumType', 'Turf', 'GameWeather',\n",
    "       'Temperature', 'Humidity', 'WindSpeed', 'WindDirection', 'PlayerWeight', 'PlayerBirthDate',\n",
    "       'PlayerCollegeName', 'Position', 'HomeTeamAbbr', 'VisitorTeamAbbr',\n",
    "       'Week', 'Stadium', 'Location', 'StadiumType', 'Turf', 'GameWeather',\n",
    "       'Temperature', 'Humidity', 'WindSpeed', 'WindDirection','JerseyNumber','NflId', 'DisplayName', 'Team',\n",
    "        'DisplayName', 'DefensePersonnel', 'DefendersInTheBox', 'OffenseFormation']\n",
    "enviroment_stat = enviroment_stat.drop(drop_lab, axis=1)"
   ]
  },
  {
   "cell_type": "code",
   "execution_count": 81,
   "metadata": {},
   "outputs": [
    {
     "data": {
      "text/html": [
       "<div>\n",
       "<style scoped>\n",
       "    .dataframe tbody tr th:only-of-type {\n",
       "        vertical-align: middle;\n",
       "    }\n",
       "\n",
       "    .dataframe tbody tr th {\n",
       "        vertical-align: top;\n",
       "    }\n",
       "\n",
       "    .dataframe thead th {\n",
       "        text-align: right;\n",
       "    }\n",
       "</style>\n",
       "<table border=\"1\" class=\"dataframe\">\n",
       "  <thead>\n",
       "    <tr style=\"text-align: right;\">\n",
       "      <th></th>\n",
       "      <th>GameId</th>\n",
       "      <th>PlayId</th>\n",
       "      <th>Season</th>\n",
       "      <th>YardLine</th>\n",
       "      <th>Quarter</th>\n",
       "      <th>Down</th>\n",
       "      <th>Distance</th>\n",
       "      <th>HomeScoreBeforePlay</th>\n",
       "      <th>VisitorScoreBeforePlay</th>\n",
       "      <th>NflIdRusher</th>\n",
       "      <th>Yards</th>\n",
       "    </tr>\n",
       "    <tr>\n",
       "      <th>TimeSnap</th>\n",
       "      <th></th>\n",
       "      <th></th>\n",
       "      <th></th>\n",
       "      <th></th>\n",
       "      <th></th>\n",
       "      <th></th>\n",
       "      <th></th>\n",
       "      <th></th>\n",
       "      <th></th>\n",
       "      <th></th>\n",
       "      <th></th>\n",
       "    </tr>\n",
       "  </thead>\n",
       "  <tbody>\n",
       "    <tr>\n",
       "      <th>00:44:05</th>\n",
       "      <td>44375995400</td>\n",
       "      <td>443759954002596</td>\n",
       "      <td>44374</td>\n",
       "      <td>770</td>\n",
       "      <td>22</td>\n",
       "      <td>66</td>\n",
       "      <td>44</td>\n",
       "      <td>0</td>\n",
       "      <td>0</td>\n",
       "      <td>55963006</td>\n",
       "      <td>176</td>\n",
       "    </tr>\n",
       "    <tr>\n",
       "      <th>00:44:26</th>\n",
       "      <td>44375995400</td>\n",
       "      <td>443759954003058</td>\n",
       "      <td>44374</td>\n",
       "      <td>946</td>\n",
       "      <td>22</td>\n",
       "      <td>22</td>\n",
       "      <td>220</td>\n",
       "      <td>0</td>\n",
       "      <td>0</td>\n",
       "      <td>55963006</td>\n",
       "      <td>66</td>\n",
       "    </tr>\n",
       "    <tr>\n",
       "      <th>00:45:15</th>\n",
       "      <td>44375995400</td>\n",
       "      <td>443759954004158</td>\n",
       "      <td>44374</td>\n",
       "      <td>770</td>\n",
       "      <td>22</td>\n",
       "      <td>22</td>\n",
       "      <td>220</td>\n",
       "      <td>0</td>\n",
       "      <td>0</td>\n",
       "      <td>55963006</td>\n",
       "      <td>110</td>\n",
       "    </tr>\n",
       "    <tr>\n",
       "      <th>00:48:39</th>\n",
       "      <td>44375995400</td>\n",
       "      <td>443759954007590</td>\n",
       "      <td>44374</td>\n",
       "      <td>44</td>\n",
       "      <td>22</td>\n",
       "      <td>44</td>\n",
       "      <td>44</td>\n",
       "      <td>0</td>\n",
       "      <td>0</td>\n",
       "      <td>55872586</td>\n",
       "      <td>44</td>\n",
       "    </tr>\n",
       "    <tr>\n",
       "      <th>00:53:13</th>\n",
       "      <td>44375995400</td>\n",
       "      <td>443759954008690</td>\n",
       "      <td>44374</td>\n",
       "      <td>550</td>\n",
       "      <td>22</td>\n",
       "      <td>22</td>\n",
       "      <td>220</td>\n",
       "      <td>154</td>\n",
       "      <td>0</td>\n",
       "      <td>56274174</td>\n",
       "      <td>154</td>\n",
       "    </tr>\n",
       "  </tbody>\n",
       "</table>\n",
       "</div>"
      ],
      "text/plain": [
       "               GameId           PlayId  Season  YardLine  Quarter  Down  \\\n",
       "TimeSnap                                                                  \n",
       "00:44:05  44375995400  443759954002596   44374       770       22    66   \n",
       "00:44:26  44375995400  443759954003058   44374       946       22    22   \n",
       "00:45:15  44375995400  443759954004158   44374       770       22    22   \n",
       "00:48:39  44375995400  443759954007590   44374        44       22    44   \n",
       "00:53:13  44375995400  443759954008690   44374       550       22    22   \n",
       "\n",
       "          Distance  HomeScoreBeforePlay  VisitorScoreBeforePlay  NflIdRusher  \\\n",
       "TimeSnap                                                                       \n",
       "00:44:05        44                    0                       0     55963006   \n",
       "00:44:26       220                    0                       0     55963006   \n",
       "00:45:15       220                    0                       0     55963006   \n",
       "00:48:39        44                    0                       0     55872586   \n",
       "00:53:13       220                  154                       0     56274174   \n",
       "\n",
       "          Yards  \n",
       "TimeSnap         \n",
       "00:44:05    176  \n",
       "00:44:26     66  \n",
       "00:45:15    110  \n",
       "00:48:39     44  \n",
       "00:53:13    154  "
      ]
     },
     "execution_count": 81,
     "metadata": {},
     "output_type": "execute_result"
    }
   ],
   "source": [
    "time_group = enviroment_stat.groupby('TimeSnap').sum()\n",
    "time_group.index = time_group.index.astype(str).str.slice(11,19)\n",
    "time_group.head()"
   ]
  },
  {
   "cell_type": "code",
   "execution_count": 82,
   "metadata": {},
   "outputs": [],
   "source": [
    "match_df = time_group.loc[time_group.GameId == 44398706242]"
   ]
  },
  {
   "cell_type": "code",
   "execution_count": 83,
   "metadata": {},
   "outputs": [],
   "source": [
    "def Time_Match(df, game_id):\n",
    "    match_df = df.loc[df.GameId == game_id]\n",
    "    match_df"
   ]
  },
  {
   "cell_type": "code",
   "execution_count": 121,
   "metadata": {
    "scrolled": false
   },
   "outputs": [
    {
     "data": {
      "text/plain": [
       "<function matplotlib.pyplot.show(*args, **kw)>"
      ]
     },
     "execution_count": 121,
     "metadata": {},
     "output_type": "execute_result"
    },
    {
     "data": {
      "image/png": "[encoded data removed]",
      "text/plain": [
       "<Figure size 1440x360 with 1 Axes>"
      ]
     },
     "metadata": {
      "needs_background": "light"
     },
     "output_type": "display_data"
    }
   ],
   "source": [
    "plt.figure(figsize = [20,5])\n",
    "plt.plot(match_df.index, match_df.Yards, color = 'lightseagreen', )\n",
    "plt.xticks(rotation=45, ha=\"right\")\n",
    "\n",
    "ax.spines['right'].set_visible(False)\n",
    "ax.spines['top'].set_visible(False)\n",
    "\n",
    "plt.xlabel('Match Progress', fontsize=15)\n",
    "plt.ylabel('Yards', fontsize = 15)\n",
    "plt.title('Number of yards over time (in one specific match)')\n",
    "\n",
    "plt.show"
   ]
  },
  {
   "cell_type": "code",
   "execution_count": null,
   "metadata": {},
   "outputs": [],
   "source": []
  },
  {
   "cell_type": "code",
   "execution_count": null,
   "metadata": {},
   "outputs": [],
   "source": []
  }
 ],
 "metadata": {
  "kernelspec": {
   "display_name": "Python 3",
   "language": "python",
   "name": "python3"
  },
  "language_info": {
   "codemirror_mode": {
    "name": "ipython",
    "version": 3
   },
   "file_extension": ".py",
   "mimetype": "text/x-python",
   "name": "python",
   "nbconvert_exporter": "python",
   "pygments_lexer": "ipython3",
   "version": "3.7.1"
  }
 },
 "nbformat": 4,
 "nbformat_minor": 2
}
